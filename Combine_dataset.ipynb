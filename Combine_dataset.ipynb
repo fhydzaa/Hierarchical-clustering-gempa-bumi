{
  "nbformat": 4,
  "nbformat_minor": 0,
  "metadata": {
    "colab": {
      "provenance": [],
      "mount_file_id": "11yrGtDH61p5T84t4JBgrdYRxHq4qSxsW",
      "authorship_tag": "ABX9TyNj9ljMI68nsnIMdestGxXs",
      "include_colab_link": true
    },
    "kernelspec": {
      "name": "python3",
      "display_name": "Python 3"
    },
    "language_info": {
      "name": "python"
    }
  },
  "cells": [
    {
      "cell_type": "markdown",
      "metadata": {
        "id": "view-in-github",
        "colab_type": "text"
      },
      "source": [
        "<a href=\"https://colab.research.google.com/github/fhydzaa/Hierarchical-clustering-gempa-bumi/blob/main/Combine_dataset.ipynb\" target=\"_parent\"><img src=\"https://colab.research.google.com/assets/colab-badge.svg\" alt=\"Open In Colab\"/></a>"
      ]
    },
    {
      "cell_type": "code",
      "execution_count": 8,
      "metadata": {
        "colab": {
          "base_uri": "https://localhost:8080/"
        },
        "id": "9oY4B2eK8wSN",
        "outputId": "fba5c082-7f50-4d41-c821-639c39518bd0"
      },
      "outputs": [
        {
          "output_type": "stream",
          "name": "stdout",
          "text": [
            "        No     Event ID                    Date time  Latitude   Longitude  \\\n",
            "0        1  bmg2022zozq  2022-12-30T23:14:36.749842Z -0.215099   97.199791   \n",
            "1        2  bmg2022zoys  2022-12-30T22:46:44.211282Z -6.824370  107.047043   \n",
            "2        3  bmg2022zovn  2022-12-30T21:10:39.748222Z  1.346628   97.050514   \n",
            "3        4  bmg2022zoms  2022-12-30T16:42:53.443324Z  3.731188   97.700356   \n",
            "4        5  bmg2022zomr  2022-12-30T16:42:14.452921Z -3.677868  101.557808   \n",
            "...    ...          ...                          ...       ...         ...   \n",
            "31098  690  bmg2022msvw  2022-07-01T01:54:58.058887Z  4.879066   96.079597   \n",
            "31099  691  bmg2022msuk  2022-07-01T01:11:40.103833Z -4.226892  134.384857   \n",
            "31100  692  bmg2022msul  2022-07-01T01:10:49.237324Z -0.889148  122.112351   \n",
            "31101  693  bmg2022mstz  2022-07-01T00:58:21.034528Z -2.709798  120.711212   \n",
            "31102  694  bmg2022mstq  2022-07-01T00:47:37.886414Z -5.153133  103.063095   \n",
            "\n",
            "       Magnitude Mag Type  Depth (km)  Phase Count  Azimuth Gap  \\\n",
            "0       4.617804        M          13           60   213.906509   \n",
            "1       2.207186        M          19           12   119.976273   \n",
            "2       3.883963        M          19           27   187.036865   \n",
            "3       2.821375        M          11           11   202.263779   \n",
            "4       3.108787        M          15           18   226.067505   \n",
            "...          ...      ...         ...          ...          ...   \n",
            "31098   3.159003        M          10           17   117.145630   \n",
            "31099   3.602522      MLv          10           11    92.003111   \n",
            "31100   3.108878        M          10           14    83.843346   \n",
            "31101   2.654351        M          10           12   144.695663   \n",
            "31102   3.666694        M          19           27   212.259041   \n",
            "\n",
            "                              Location Agency  \n",
            "0      Southwest of Sumatra, Indonesia   BMKG  \n",
            "1                      Java, Indonesia   BMKG  \n",
            "2          Northern Sumatra, Indonesia   BMKG  \n",
            "3          Northern Sumatra, Indonesia   BMKG  \n",
            "4          Southern Sumatra, Indonesia   BMKG  \n",
            "...                                ...    ...  \n",
            "31098      Northern Sumatra, Indonesia   BMKG  \n",
            "31099     Irian Jaya Region, Indonesia   BMKG  \n",
            "31100    Minahassa Peninsula, Sulawesi   BMKG  \n",
            "31101              Sulawesi, Indonesia   BMKG  \n",
            "31102      Southern Sumatra, Indonesia   BMKG  \n",
            "\n",
            "[31103 rows x 12 columns]\n"
          ]
        }
      ],
      "source": [
        "import pandas as pd\n",
        "from google.colab import files\n",
        "import glob\n",
        "\n",
        "# Mendapatkan daftar file dengan pola tertentu\n",
        "file_pattern = '/content/drive/MyDrive/S5/BDDM/FP/Datasets/RAW/EQ Repository   Requested Data (*).csv'\n",
        "file_list = glob.glob(file_pattern)\n",
        "\n",
        "# Membaca dan menggabungkan setiap file CSV\n",
        "dfs = []\n",
        "for file_path in file_list:\n",
        "    df = pd.read_csv(file_path)\n",
        "    dfs.append(df)\n",
        "\n",
        "# Menggabungkan semua DataFrame menjadi satu\n",
        "df_combined = pd.concat(dfs, ignore_index=True)\n",
        "\n",
        "# Tampilkan DataFrame yang telah digabungkan\n",
        "print(df_combined)\n"
      ]
    },
    {
      "cell_type": "code",
      "source": [
        "# Menentukan nama file tujuan\n",
        "output_file_name = '/content/drive/MyDrive/S5/BDDM/FP/Datasets/combined_dataset_gempa.csv'\n",
        "\n",
        "# Menyimpan DataFrame ke dalam file CSV\n",
        "df_combined.to_csv(output_file_name, index=False)\n",
        "\n",
        "# Mengunduh file CSV\n",
        "files.download(output_file_name)\n"
      ],
      "metadata": {
        "colab": {
          "base_uri": "https://localhost:8080/",
          "height": 17
        },
        "id": "l0HVEike8443",
        "outputId": "b35aa799-36b9-4ffe-9f79-20c573d1860b"
      },
      "execution_count": 9,
      "outputs": [
        {
          "output_type": "display_data",
          "data": {
            "text/plain": [
              "<IPython.core.display.Javascript object>"
            ],
            "application/javascript": [
              "\n",
              "    async function download(id, filename, size) {\n",
              "      if (!google.colab.kernel.accessAllowed) {\n",
              "        return;\n",
              "      }\n",
              "      const div = document.createElement('div');\n",
              "      const label = document.createElement('label');\n",
              "      label.textContent = `Downloading \"${filename}\": `;\n",
              "      div.appendChild(label);\n",
              "      const progress = document.createElement('progress');\n",
              "      progress.max = size;\n",
              "      div.appendChild(progress);\n",
              "      document.body.appendChild(div);\n",
              "\n",
              "      const buffers = [];\n",
              "      let downloaded = 0;\n",
              "\n",
              "      const channel = await google.colab.kernel.comms.open(id);\n",
              "      // Send a message to notify the kernel that we're ready.\n",
              "      channel.send({})\n",
              "\n",
              "      for await (const message of channel.messages) {\n",
              "        // Send a message to notify the kernel that we're ready.\n",
              "        channel.send({})\n",
              "        if (message.buffers) {\n",
              "          for (const buffer of message.buffers) {\n",
              "            buffers.push(buffer);\n",
              "            downloaded += buffer.byteLength;\n",
              "            progress.value = downloaded;\n",
              "          }\n",
              "        }\n",
              "      }\n",
              "      const blob = new Blob(buffers, {type: 'application/binary'});\n",
              "      const a = document.createElement('a');\n",
              "      a.href = window.URL.createObjectURL(blob);\n",
              "      a.download = filename;\n",
              "      div.appendChild(a);\n",
              "      a.click();\n",
              "      div.remove();\n",
              "    }\n",
              "  "
            ]
          },
          "metadata": {}
        },
        {
          "output_type": "display_data",
          "data": {
            "text/plain": [
              "<IPython.core.display.Javascript object>"
            ],
            "application/javascript": [
              "download(\"download_efcdf61c-c598-4924-9867-3c51fc46ecea\", \"combined_dataset_gempa.csv\", 4035552)"
            ]
          },
          "metadata": {}
        }
      ]
    }
  ]
}